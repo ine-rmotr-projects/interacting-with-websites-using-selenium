{
 "cells": [
  {
   "cell_type": "markdown",
   "metadata": {},
   "source": [
    "![ine-divider](https://user-images.githubusercontent.com/7065401/92672068-398e8080-f2ee-11ea-82d6-ad53f7feb5c0.png)\n",
    "<hr>\n",
    "\n",
    "# Web scraping in Python\n",
    "\n",
    "## Selenium\n",
    "\n",
    "In this project, you will use Selenium to drive a browser and interact with websites.  During development of your scripts, you may want to use Selenium in the interactive mode to see how a browser responds.  After your code is sufficiently developed, you probably want to switch it to headless mode."
   ]
  },
  {
   "cell_type": "markdown",
   "metadata": {},
   "source": [
    "![orange-divider](https://user-images.githubusercontent.com/7065401/92672455-187a5f80-f2ef-11ea-890c-40be9474f7b7.png)"
   ]
  },
  {
   "cell_type": "markdown",
   "metadata": {},
   "source": [
    "## Logging into a site where you have credentials\n",
    "\n",
    "This exercise is slightly more open ended in that you should choose what website you wish to interact with.  The solution will show an example of me logging into my web hosting company; however, you probably do not have an account with them (and if you do, your credentials are different).\n",
    "\n",
    "Choose some website at which you have a username and password, and write a Selenium script to login and extract some personalized content."
   ]
  },
  {
   "cell_type": "code",
   "execution_count": 22,
   "metadata": {},
   "outputs": [],
   "source": [
    "from selenium import webdriver\n",
    "from selenium.webdriver.support.ui import WebDriverWait\n",
    "from selenium.webdriver.common.by import By\n",
    "from selenium.webdriver.common.keys import Keys\n",
    "from selenium.webdriver.support.expected_conditions import presence_of_element_located\n",
    "from selenium.webdriver.chrome.options import Options\n",
    "from bs4 import BeautifulSoup\n",
    "# other selenium components?"
   ]
  },
  {
   "cell_type": "code",
   "execution_count": 6,
   "metadata": {},
   "outputs": [],
   "source": [
    "import os\n",
    "login_url = 'https://sitecontrol.hostway.com/'\n",
    "username = 'mertz2300'\n",
    "# This is not the most secure approach to password\n",
    "# ... using it just for demonstration purposes\n",
    "password = os.environ['HOSTWAY_PASSWORD']"
   ]
  },
  {
   "cell_type": "code",
   "execution_count": 28,
   "metadata": {},
   "outputs": [],
   "source": [
    "def check_hostway_balance(username, password):\n",
    "    options = Options()\n",
    "    options.headless = True\n",
    "\n",
    "    with webdriver.Chrome(options=options) as driver:\n",
    "        wait = WebDriverWait(driver, 10)\n",
    "        driver.get(login_url)\n",
    "\n",
    "        userfield = driver.find_element(By.ID, 'userId')\n",
    "        pwfield = driver.find_element(By.XPATH, '//*[@name=\"password\"]')\n",
    "        button = driver.find_element(By.XPATH, '//*[@type=\"submit\"]')\n",
    "\n",
    "        userfield.send_keys(username)\n",
    "        pwfield.send_keys(password)\n",
    "        button.click()\n",
    "\n",
    "        soup = BeautifulSoup(driver.page_source)\n",
    "        \n",
    "    balance = [tr for tr in soup.find_all('tr') \n",
    "                  if tr.td.text == 'Actual Balance'][0]\n",
    "    return balance.text"
   ]
  },
  {
   "cell_type": "code",
   "execution_count": 30,
   "metadata": {},
   "outputs": [
    {
     "name": "stdout",
     "output_type": "stream",
     "text": [
      "\n",
      "Actual Balance\n",
      "$ 0.00\n",
      "\n"
     ]
    }
   ],
   "source": [
    "print(check_hostway_balance(username, password))"
   ]
  },
  {
   "cell_type": "markdown",
   "metadata": {},
   "source": [
    "![orange-divider](https://user-images.githubusercontent.com/7065401/92672455-187a5f80-f2ef-11ea-890c-40be9474f7b7.png)"
   ]
  }
 ],
 "metadata": {
  "kernelspec": {
   "display_name": "Python 3",
   "language": "python",
   "name": "python3"
  },
  "language_info": {
   "codemirror_mode": {
    "name": "ipython",
    "version": 3
   },
   "file_extension": ".py",
   "mimetype": "text/x-python",
   "name": "python",
   "nbconvert_exporter": "python",
   "pygments_lexer": "ipython3",
   "version": "3.8.2"
  }
 },
 "nbformat": 4,
 "nbformat_minor": 4
}
